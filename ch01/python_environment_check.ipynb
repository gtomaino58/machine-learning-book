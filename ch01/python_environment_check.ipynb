{
 "cells": [
  {
   "cell_type": "code",
   "execution_count": 9,
   "id": "542cc269-23dc-4fc8-a187-059d8fade2cc",
   "metadata": {},
   "outputs": [],
   "source": [
    "import sys\n",
    "sys.path.insert(0, '..')"
   ]
  },
  {
   "cell_type": "code",
   "execution_count": 10,
   "id": "826a153a-521a-45aa-9e71-b7228aa0e16d",
   "metadata": {},
   "outputs": [
    {
     "name": "stdout",
     "output_type": "stream",
     "text": [
      "[OK] numpy 2.2.1\n",
      "[OK] scipy 1.14.1\n",
      "[OK] matplotlib 3.10.0\n",
      "[OK] sklearn 1.6.0\n",
      "[OK] pandas 2.2.3\n",
      "[OK] torch 2.6.0+cu126\n",
      "[OK] torchvision 0.21.0+cu126\n",
      "[OK] torchaudio 2.6.0+cu126\n"
     ]
    }
   ],
   "source": [
    "from python_environment_check import check_packages\n",
    "\n",
    "\n",
    "d = {\n",
    "    'numpy': '1.21.2',\n",
    "    'scipy': '1.7.0',\n",
    "    'matplotlib': '3.4.3',\n",
    "    'sklearn': '1.0',\n",
    "    'pandas': '1.3.2',\n",
    "    'torch': '2.6.0',\n",
    "    'torchvision': '0.21.0',\n",
    "    'torchaudio': '2.6.0'\n",
    "\n",
    "}\n",
    "check_packages(d)"
   ]
  }
 ],
 "metadata": {
  "kernelspec": {
   "display_name": "Python 3",
   "language": "python",
   "name": "python3"
  },
  "language_info": {
   "codemirror_mode": {
    "name": "ipython",
    "version": 3
   },
   "file_extension": ".py",
   "mimetype": "text/x-python",
   "name": "python",
   "nbconvert_exporter": "python",
   "pygments_lexer": "ipython3",
   "version": "3.13.3"
  }
 },
 "nbformat": 4,
 "nbformat_minor": 5
}
